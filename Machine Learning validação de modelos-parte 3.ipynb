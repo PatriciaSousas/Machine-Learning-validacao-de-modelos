{
 "cells": [
  {
   "cell_type": "markdown",
   "id": "350fe688",
   "metadata": {},
   "source": [
    "## O modelo de validação será feito usando a base de dados\n",
    "## do projeto machine learning com classificação, a validação começa apartir do topico 1"
   ]
  },
  {
   "cell_type": "code",
   "execution_count": null,
   "id": "c73ad7bf",
   "metadata": {},
   "outputs": [],
   "source": []
  },
  {
   "cell_type": "markdown",
   "id": "fec9739a",
   "metadata": {},
   "source": [
    "# Bibliotecas"
   ]
  },
  {
   "cell_type": "code",
   "execution_count": 26,
   "id": "2b16c4de",
   "metadata": {},
   "outputs": [],
   "source": [
    "import pandas as pd\n",
    "import numpy as np\n",
    "from sklearn.model_selection import train_test_split\n",
    "from sklearn.svm import LinearSVC\n",
    "from sklearn.metrics import accuracy_score\n",
    "from sklearn.dummy import DummyClassifier\n",
    "from sklearn.tree import DecisionTreeClassifier"
   ]
  },
  {
   "cell_type": "code",
   "execution_count": null,
   "id": "82bb395d",
   "metadata": {},
   "outputs": [],
   "source": []
  },
  {
   "cell_type": "markdown",
   "id": "be511671",
   "metadata": {},
   "source": [
    "## Carregamento dos dados"
   ]
  },
  {
   "cell_type": "code",
   "execution_count": 27,
   "id": "0407633c",
   "metadata": {},
   "outputs": [
    {
     "data": {
      "text/html": [
       "<div>\n",
       "<style scoped>\n",
       "    .dataframe tbody tr th:only-of-type {\n",
       "        vertical-align: middle;\n",
       "    }\n",
       "\n",
       "    .dataframe tbody tr th {\n",
       "        vertical-align: top;\n",
       "    }\n",
       "\n",
       "    .dataframe thead th {\n",
       "        text-align: right;\n",
       "    }\n",
       "</style>\n",
       "<table border=\"1\" class=\"dataframe\">\n",
       "  <thead>\n",
       "    <tr style=\"text-align: right;\">\n",
       "      <th></th>\n",
       "      <th>preco</th>\n",
       "      <th>vendido</th>\n",
       "      <th>idade_do_modelo</th>\n",
       "      <th>km_por_ano</th>\n",
       "    </tr>\n",
       "  </thead>\n",
       "  <tbody>\n",
       "    <tr>\n",
       "      <th>0</th>\n",
       "      <td>30941.02</td>\n",
       "      <td>1</td>\n",
       "      <td>18</td>\n",
       "      <td>35085.22134</td>\n",
       "    </tr>\n",
       "    <tr>\n",
       "      <th>1</th>\n",
       "      <td>40557.96</td>\n",
       "      <td>1</td>\n",
       "      <td>20</td>\n",
       "      <td>12622.05362</td>\n",
       "    </tr>\n",
       "    <tr>\n",
       "      <th>2</th>\n",
       "      <td>89627.50</td>\n",
       "      <td>0</td>\n",
       "      <td>12</td>\n",
       "      <td>11440.79806</td>\n",
       "    </tr>\n",
       "    <tr>\n",
       "      <th>3</th>\n",
       "      <td>95276.14</td>\n",
       "      <td>0</td>\n",
       "      <td>3</td>\n",
       "      <td>43167.32682</td>\n",
       "    </tr>\n",
       "    <tr>\n",
       "      <th>4</th>\n",
       "      <td>117384.68</td>\n",
       "      <td>1</td>\n",
       "      <td>4</td>\n",
       "      <td>12770.11290</td>\n",
       "    </tr>\n",
       "  </tbody>\n",
       "</table>\n",
       "</div>"
      ],
      "text/plain": [
       "       preco  vendido  idade_do_modelo   km_por_ano\n",
       "0   30941.02        1               18  35085.22134\n",
       "1   40557.96        1               20  12622.05362\n",
       "2   89627.50        0               12  11440.79806\n",
       "3   95276.14        0                3  43167.32682\n",
       "4  117384.68        1                4  12770.11290"
      ]
     },
     "execution_count": 27,
     "metadata": {},
     "output_type": "execute_result"
    }
   ],
   "source": [
    "#leitura dos dados, apague também a coluna Unnnamed que estava em branco\n",
    "\n",
    "uri = \"https://gist.githubusercontent.com/guilhermesilveira/e99a526b2e7ccc6c3b70f53db43a87d2/raw/1605fc74aa778066bf2e6695e24d53cf65f2f447/machine-learning-carros-simulacao.csv\"\n",
    "dados = pd.read_csv(uri).drop(columns=[\"Unnamed: 0\"], axis=1)\n",
    "dados.head()"
   ]
  },
  {
   "cell_type": "markdown",
   "id": "211e07f1",
   "metadata": {},
   "source": [
    "## Modelo de Classificação"
   ]
  },
  {
   "cell_type": "code",
   "execution_count": null,
   "id": "e2aaa179",
   "metadata": {},
   "outputs": [],
   "source": []
  },
  {
   "cell_type": "code",
   "execution_count": 28,
   "id": "f9e6dfce",
   "metadata": {},
   "outputs": [
    {
     "name": "stdout",
     "output_type": "stream",
     "text": [
      "Treinaremos com 7500 elementos e testaremos com 2500 elementos\n"
     ]
    }
   ],
   "source": [
    "#separo os dados como treino e teste para meu modelo X E Y \n",
    "\n",
    "x = dados[[\"preco\", \"idade_do_modelo\",\"km_por_ano\"]]\n",
    "y = dados[\"vendido\"]\n",
    "\n",
    "SEED = 158020\n",
    "np.random.seed(SEED)\n",
    "treino_x, teste_x, treino_y, teste_y = train_test_split(x, y, test_size = 0.25,\n",
    "                                                         stratify = y)\n",
    "print(\"Treinaremos com %d elementos e testaremos com %d elementos\" % (len(treino_x), len(teste_x)))\n"
   ]
  },
  {
   "cell_type": "code",
   "execution_count": 29,
   "id": "99b075fa",
   "metadata": {},
   "outputs": [
    {
     "name": "stdout",
     "output_type": "stream",
     "text": [
      "A acurácia do dummy stratified foi 58.00%\n"
     ]
    }
   ],
   "source": [
    "#DummyClassifier: É um modelo classificador que faz previsões sem tentar encontrar padrões nos dados.\n",
    "#O modelo padrão basicamente analisa qual rótulo é mais frequente no conjunto de dados de treinamento e faz previsões com base nesse rótulo\n",
    "dummy_stratified = DummyClassifier()\n",
    "dummy_stratified.fit(treino_x, treino_y)\n",
    "acuracia = dummy_stratified.score(teste_x, teste_y) * 100\n",
    "\n",
    "print(\"A acurácia do dummy stratified foi %.2f%%\" % acuracia)"
   ]
  },
  {
   "cell_type": "code",
   "execution_count": 30,
   "id": "78c49c14",
   "metadata": {},
   "outputs": [
    {
     "name": "stdout",
     "output_type": "stream",
     "text": [
      "A acurácia foi 71.92%\n"
     ]
    }
   ],
   "source": [
    "#rodo uma arvore de decisao com profundidade 2 para entender os dados \n",
    "SEED = 158020\n",
    "np.random.seed(SEED)\n",
    "modelo = DecisionTreeClassifier(max_depth=2)\n",
    "modelo.fit(treino_x, treino_y)\n",
    "previsoes = modelo.predict(teste_x)\n",
    "\n",
    "acuracia = accuracy_score(teste_y, previsoes) * 100\n",
    "print(\"A acurácia foi %.2f%%\" % acuracia)\n"
   ]
  },
  {
   "cell_type": "markdown",
   "id": "93c6e560",
   "metadata": {},
   "source": [
    "# Cross validate\n",
    "\n",
    "- É uma técnica muito utilizada para avaliação de desempenho de modelos e consequente verificação de tendências no aprendizado de máquina\n",
    "- também conhecido como validação cruzada o cross valite é um metodo reamostragem que usa diferentes porções dos dados para testar e treinar um modelo em diferentes iterações\n",
    "-  Essa validação é feita quebrando os dados em K-fold testando e treinando diversas vezes e comparando esses resultados um com os outros\n",
    "- e com isso possibilitando a geração de um intervalo de confiança entre os resultados"
   ]
  },
  {
   "cell_type": "code",
   "execution_count": 31,
   "id": "25453fe3",
   "metadata": {},
   "outputs": [
    {
     "name": "stdout",
     "output_type": "stream",
     "text": [
      "Accuracy [74.99, 76.57]\n"
     ]
    }
   ],
   "source": [
    "from sklearn.model_selection import cross_validate\n",
    "\n",
    "#aqui eu aplico o mesmo modelo de arvore de decisao do projeto acima\n",
    "# sem alterar os  dados de treino e teste pois a ideia é que o cross validate quebre esses dados \n",
    "#treino e teste de acordo com as vezes que eu pedir, nesse ponto também eu chamo a media\n",
    "# e o desvio padrao dos dados para que eu possar gerar o intervalo de confiança entre os resultados\n",
    "\n",
    "\n",
    "modelo = DecisionTreeClassifier(max_depth=2)\n",
    "results = cross_validate(modelo, x, y, cv = 3, return_train_score = False)\n",
    "media = results ['test_score'].mean()\n",
    "desvio_padrao = results['test_score'].std()\n",
    "print(\"Accuracy [%.2f, %.2f]\" % ((media - 2 *desvio_padrao) * 100, (media + 2 * desvio_padrao) * 100))"
   ]
  },
  {
   "cell_type": "code",
   "execution_count": 32,
   "id": "538c5beb",
   "metadata": {},
   "outputs": [
    {
     "name": "stdout",
     "output_type": "stream",
     "text": [
      "Accuracy [74.99, 76.57]\n"
     ]
    }
   ],
   "source": [
    "#para garantir a reprodutividade do modelo adiciono o seed que estava acima\n",
    "#o interesse é que apesar do seed mudar aqui os resultados do teste \n",
    "#continua o mesmo isso por conta do cross validate como eu estou aplicando\n",
    "#3 vezes o teste o resultado já é diferente\n",
    "\n",
    "SEED = 14\n",
    "modelo = DecisionTreeClassifier(max_depth=2)\n",
    "results = cross_validate(modelo, x, y, cv = 3, return_train_score = False)\n",
    "media = results ['test_score'].mean()\n",
    "desvio_padrao = results['test_score'].std()\n",
    "print(\"Accuracy [%.2f, %.2f]\" % ((media - 2 *desvio_padrao) * 100, (media + 2 * desvio_padrao) * 100))"
   ]
  },
  {
   "cell_type": "markdown",
   "id": "aeaefeaa",
   "metadata": {},
   "source": [
    "### Apesar do Seed não estar mais alterando os resultados como anteriormente posso ficar \n",
    "### a mercer dos resultados quanto eu observo o numero de vezes que eu peço para treinar o modelo com cross validate\n",
    "### como no exemplo abaixo, eu mudei de cv=3 para cv= 6 isso altero os dados e gero aleatoriedade\n",
    "### nesse caso eu vou seguir a orientação da documentação e irei manter 5\n",
    "### link documentação cross validate ( https://scikit-learn.org/stable/modules/cross_validation.html)"
   ]
  },
  {
   "cell_type": "code",
   "execution_count": 33,
   "id": "ded942ee",
   "metadata": {},
   "outputs": [
    {
     "name": "stdout",
     "output_type": "stream",
     "text": [
      "Accuracy [74.22, 77.34]\n"
     ]
    }
   ],
   "source": [
    "#exemplo \n",
    "SEED = 14\n",
    "modelo = DecisionTreeClassifier(max_depth=2)\n",
    "results = cross_validate(modelo, x, y, cv = 6, return_train_score = False)\n",
    "media = results ['test_score'].mean()\n",
    "desvio_padrao = results['test_score'].std()\n",
    "print(\"Accuracy [%.2f, %.2f]\" % ((media - 2 *desvio_padrao) * 100, (media + 2 * desvio_padrao) * 100))"
   ]
  },
  {
   "cell_type": "code",
   "execution_count": 34,
   "id": "601c7486",
   "metadata": {},
   "outputs": [
    {
     "name": "stdout",
     "output_type": "stream",
     "text": [
      "Accuracy [75.21, 76.35]\n"
     ]
    }
   ],
   "source": [
    "#vou manter por padrao 5\n",
    "\n",
    "# e com isso encontro meu intervalo de desvio padrao\n",
    "\n",
    "SEED = 14\n",
    "modelo = DecisionTreeClassifier(max_depth=2)\n",
    "results = cross_validate(modelo, x, y, cv = 5, return_train_score = False)\n",
    "media = results ['test_score'].mean()\n",
    "desvio_padrao = results['test_score'].std()\n",
    "print(\"Accuracy [%.2f, %.2f]\" % ((media - 2 *desvio_padrao) * 100, (media + 2 * desvio_padrao) * 100))"
   ]
  },
  {
   "cell_type": "markdown",
   "id": "145d99c1",
   "metadata": {},
   "source": [
    "# Kfold com aleatorização"
   ]
  },
  {
   "cell_type": "markdown",
   "id": "06182c53",
   "metadata": {},
   "source": [
    "#### Nesse momento eu quero começa a rodar o modelo de uma maneira aleatoria, antes do \n",
    "#### algoritimo rodar o cross validate, pra isso vou usar o class sklearn.model_selection.KFold \n",
    "#### que faz essa aleatoriedade antes da validacao "
   ]
  },
  {
   "cell_type": "code",
   "execution_count": 40,
   "id": "24ba68ec",
   "metadata": {},
   "outputs": [],
   "source": [
    "#abro uma função para fica mais chamar em chamar essas info da media, desvio padrao...\n",
    "\n",
    "def imprime_resultado(results):\n",
    "    media = results ['test_score'].mean()\n",
    "    desvio_padrao = results['test_score'].std()\n",
    "    print(\"Accuracy [%.2f, %.2f]\" % ((media - 2 *desvio_padrao) * 100, (media + 2 * desvio_padrao) * 100))"
   ]
  },
  {
   "cell_type": "code",
   "execution_count": 42,
   "id": "45ff4531",
   "metadata": {},
   "outputs": [
    {
     "name": "stdout",
     "output_type": "stream",
     "text": [
      "Accuracy [75.21, 76.35]\n"
     ]
    }
   ],
   "source": [
    "#chamo a biblioteca do KFOLD e junto dela dois parametros \n",
    "#n_splits o numero de vezes que eu quero que ele quebre  e embaralhe\n",
    "# e suffle true que é aleatoriedade dos valores\n",
    "\n",
    "from sklearn.model_selection import KFold\n",
    "\n",
    "\n",
    "SEED = 14\n",
    "np.random.seed(SEED)\n",
    "\n",
    "cv= KFold(n_splits = 10, shuffle = True)\n",
    "modelo = DecisionTreeClassifier(max_depth=2)\n",
    "results = cross_validate(modelo, x, y, cv = 5, return_train_score = False)\n",
    "imprime_resultado(results)"
   ]
  },
  {
   "cell_type": "markdown",
   "id": "22086848",
   "metadata": {},
   "source": [
    "#  Estratificação com validação cruzada\n",
    "\n",
    "#### Pode ocorrer no modelo de ML o desbalanceamento das classes de entradas ou saidas ou até mesmo pela natureza dos meus dados \n",
    "#### para fazer esse rebalançamento eu posso usar o  StratifiedKFold, que recebe um número de n_splits, shuffle e depois separa, mantendo a proporção entre as classes. "
   ]
  },
  {
   "cell_type": "code",
   "execution_count": null,
   "id": "9a0d2266",
   "metadata": {},
   "outputs": [],
   "source": []
  },
  {
   "cell_type": "markdown",
   "id": "e461ee12",
   "metadata": {},
   "source": [
    "Simulação de dados desbalanceados "
   ]
  },
  {
   "cell_type": "code",
   "execution_count": 49,
   "id": "5127b472",
   "metadata": {},
   "outputs": [
    {
     "data": {
      "text/html": [
       "<div>\n",
       "<style scoped>\n",
       "    .dataframe tbody tr th:only-of-type {\n",
       "        vertical-align: middle;\n",
       "    }\n",
       "\n",
       "    .dataframe tbody tr th {\n",
       "        vertical-align: top;\n",
       "    }\n",
       "\n",
       "    .dataframe thead th {\n",
       "        text-align: right;\n",
       "    }\n",
       "</style>\n",
       "<table border=\"1\" class=\"dataframe\">\n",
       "  <thead>\n",
       "    <tr style=\"text-align: right;\">\n",
       "      <th></th>\n",
       "      <th>preco</th>\n",
       "      <th>vendido</th>\n",
       "      <th>idade_do_modelo</th>\n",
       "      <th>km_por_ano</th>\n",
       "    </tr>\n",
       "  </thead>\n",
       "  <tbody>\n",
       "    <tr>\n",
       "      <th>4999</th>\n",
       "      <td>74023.29</td>\n",
       "      <td>0</td>\n",
       "      <td>12</td>\n",
       "      <td>24812.80412</td>\n",
       "    </tr>\n",
       "    <tr>\n",
       "      <th>5322</th>\n",
       "      <td>84843.49</td>\n",
       "      <td>0</td>\n",
       "      <td>13</td>\n",
       "      <td>23095.63834</td>\n",
       "    </tr>\n",
       "    <tr>\n",
       "      <th>5319</th>\n",
       "      <td>83100.27</td>\n",
       "      <td>0</td>\n",
       "      <td>19</td>\n",
       "      <td>36240.72746</td>\n",
       "    </tr>\n",
       "    <tr>\n",
       "      <th>5316</th>\n",
       "      <td>87932.13</td>\n",
       "      <td>0</td>\n",
       "      <td>16</td>\n",
       "      <td>32249.56426</td>\n",
       "    </tr>\n",
       "    <tr>\n",
       "      <th>5315</th>\n",
       "      <td>77937.01</td>\n",
       "      <td>0</td>\n",
       "      <td>15</td>\n",
       "      <td>28414.50704</td>\n",
       "    </tr>\n",
       "  </tbody>\n",
       "</table>\n",
       "</div>"
      ],
      "text/plain": [
       "         preco  vendido  idade_do_modelo   km_por_ano\n",
       "4999  74023.29        0               12  24812.80412\n",
       "5322  84843.49        0               13  23095.63834\n",
       "5319  83100.27        0               19  36240.72746\n",
       "5316  87932.13        0               16  32249.56426\n",
       "5315  77937.01        0               15  28414.50704"
      ]
     },
     "execution_count": 49,
     "metadata": {},
     "output_type": "execute_result"
    }
   ],
   "source": [
    "#pego a base de dadps original, faço a ordenação de proposito\n",
    "#trago as mesmas classes \n",
    "\n",
    "dados_desbalanceados = dados.sort_values(\"vendido\", ascending=True)\n",
    "x_desbalanceados = dados_desbalanceados[[\"preco\", \"idade_do_modelo\", \"km_por_ano\"]]\n",
    "y_desbalanceados = dados_desbalanceados[\"vendido\"]\n",
    "dados_desbalanceados.head()"
   ]
  },
  {
   "cell_type": "code",
   "execution_count": 56,
   "id": "663405f6",
   "metadata": {},
   "outputs": [
    {
     "name": "stdout",
     "output_type": "stream",
     "text": [
      "Accuracy [34.29, 81.39]\n"
     ]
    }
   ],
   "source": [
    "#vou rodar o modelo agora sem o shufee \n",
    "#shuffe como coloquei acima é o que da aleatoriedade aos meus dados \n",
    "\n",
    "\n",
    "SEED = 301\n",
    "np.random.seed(SEED)\n",
    "\n",
    "cv = KFold(n_splits = 10)\n",
    "modelo = DecisionTreeClassifier(max_depth=2)\n",
    "results = cross_validate(modelo, x_desbalanceados,y_desbalanceados, cv = cv, return_train_score=False)\n",
    "imprime_resultado(results)"
   ]
  },
  {
   "cell_type": "code",
   "execution_count": 53,
   "id": "ad34dea8",
   "metadata": {},
   "outputs": [
    {
     "name": "stdout",
     "output_type": "stream",
     "text": [
      "Accuracy [74.38, 77.18]\n"
     ]
    }
   ],
   "source": [
    "#rodei o modelo agora com o shuffle\n",
    "# então aqui eu consigo ver que o shufffe é bom quando \n",
    "# porém aqui eu não tenho uma separacao igualidaria das classes\n",
    "\n",
    "SEED = 14\n",
    "np.random.seed(SEED)\n",
    "\n",
    "cv= KFold(n_splits = 10, shuffle = True)\n",
    "modelo = DecisionTreeClassifier(max_depth=2)\n",
    "results = cross_validate(modelo, x_desbalanceados,y_desbalanceados, cv = 5, return_train_score = False)\n",
    "imprime_resultado(results)"
   ]
  },
  {
   "cell_type": "code",
   "execution_count": 59,
   "id": "64634c55",
   "metadata": {},
   "outputs": [
    {
     "name": "stdout",
     "output_type": "stream",
     "text": [
      "Accuracy [73.55, 78.01]\n"
     ]
    }
   ],
   "source": [
    "#aqui eu chamo o Stratified para fazer esse balanceamento \n",
    "# nele consigo passar 3 parametros\n",
    "# stratifiedfold para o balanceiamento, o n_splites \n",
    "#para teste e o shuffle para aleatoriedade\n",
    "\n",
    "from sklearn.model_selection import StratifiedKFold\n",
    "\n",
    "SEED = 301\n",
    "np.random.seed(SEED)\n",
    "\n",
    "cv = StratifiedKFold(n_splits = 10, shuffle=True)\n",
    "modelo = DecisionTreeClassifier(max_depth=2)\n",
    "results = cross_validate(modelo,x_desbalanceados, y_desbalanceados, cv = cv, return_train_score=False)\n",
    "imprime_resultado(results)"
   ]
  }
 ],
 "metadata": {
  "kernelspec": {
   "display_name": "Python 3 (ipykernel)",
   "language": "python",
   "name": "python3"
  },
  "language_info": {
   "codemirror_mode": {
    "name": "ipython",
    "version": 3
   },
   "file_extension": ".py",
   "mimetype": "text/x-python",
   "name": "python",
   "nbconvert_exporter": "python",
   "pygments_lexer": "ipython3",
   "version": "3.9.12"
  }
 },
 "nbformat": 4,
 "nbformat_minor": 5
}
